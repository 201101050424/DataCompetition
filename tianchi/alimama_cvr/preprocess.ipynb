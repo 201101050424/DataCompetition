{
 "cells": [
  {
   "cell_type": "code",
   "execution_count": 1,
   "metadata": {},
   "outputs": [
    {
     "name": "stderr",
     "output_type": "stream",
     "text": [
      "Using TensorFlow backend.\n"
     ]
    }
   ],
   "source": [
    "import pandas as pd\n",
    "import numpy as np\n",
    "import matplotlib.pyplot as plt\n",
    "from keras.preprocessing.sequence import pad_sequences\n",
    "from keras.preprocessing.text import Tokenizer\n",
    "from sklearn.preprocessing import OneHotEncoder\n",
    "from conf import *"
   ]
  },
  {
   "cell_type": "code",
   "execution_count": 2,
   "metadata": {},
   "outputs": [],
   "source": [
    "train_per=0.8"
   ]
  },
  {
   "cell_type": "code",
   "execution_count": 3,
   "metadata": {},
   "outputs": [
    {
     "name": "stdout",
     "output_type": "stream",
     "text": [
      "           instance_id              item_id  \\\n",
      "0  2475218615076601065  2275895163219263378   \n",
      "1   398316874173557226  7096238490711246967   \n",
      "2  6586402638209028583  7096238490711246967   \n",
      "3  1040996105851528465  7096238490711246967   \n",
      "4  6316278569655873454  7096238490711246967   \n",
      "\n",
      "                        item_category_list  \\\n",
      "0  7908382889764677758;8277336076276184272   \n",
      "1  7908382889764677758;5755694407684602296   \n",
      "2  7908382889764677758;5755694407684602296   \n",
      "3  7908382889764677758;5755694407684602296   \n",
      "4  7908382889764677758;5755694407684602296   \n",
      "\n",
      "                                  item_property_list        item_brand_id  \\\n",
      "0  2636395404473730413;7515802706813700848;302719...  7838285046767229711   \n",
      "1  5131280576272319091;2636395404473730413;734498...  8126195666233054089   \n",
      "2  5131280576272319091;2636395404473730413;734498...  8126195666233054089   \n",
      "3  5131280576272319091;2636395404473730413;734498...  8126195666233054089   \n",
      "4  5131280576272319091;2636395404473730413;734498...  8126195666233054089   \n",
      "\n",
      "          item_city_id  item_price_level  item_sales_level  \\\n",
      "0  7534238860363577544                 7                 6   \n",
      "1  3948283326616421003                 6                 9   \n",
      "2  3948283326616421003                 6                 9   \n",
      "3  3948283326616421003                 6                 9   \n",
      "4  3948283326616421003                 6                 9   \n",
      "\n",
      "   item_collected_level  item_pv_level    ...     context_page_id  \\\n",
      "0                     8             14    ...                4005   \n",
      "1                     8             16    ...                4001   \n",
      "2                     8             16    ...                4011   \n",
      "3                     8             16    ...                4001   \n",
      "4                     8             16    ...                4001   \n",
      "\n",
      "                           predict_category_property              shop_id  \\\n",
      "0  8277336076276184272:-1;5799347067982556520:-1;...  5275548996133547595   \n",
      "1  5755694407684602296:216555019471416386,2636395...   329470548383752413   \n",
      "2  5755694407684602296:2636395404473730413;871073...   329470548383752413   \n",
      "3  8710739180200009128:-1;5755694407684602296:263...   329470548383752413   \n",
      "4  5755694407684602296:5131280576272319091;871073...   329470548383752413   \n",
      "\n",
      "   shop_review_num_level  shop_review_positive_rate  shop_star_level  \\\n",
      "0                     13                   0.985244             5011   \n",
      "1                     14                   0.989068             5012   \n",
      "2                     14                   0.989068             5012   \n",
      "3                     14                   0.989068             5012   \n",
      "4                     14                   0.989068             5012   \n",
      "\n",
      "   shop_score_service  shop_score_delivery shop_score_description  is_trade  \n",
      "0            0.964023             0.966550               0.955378         0  \n",
      "1            0.963794             0.964225               0.959134         0  \n",
      "2            0.963794             0.964225               0.959134         0  \n",
      "3            0.963794             0.964225               0.959134         0  \n",
      "4            0.963794             0.964225               0.959134         0  \n",
      "\n",
      "[5 rows x 27 columns]\n"
     ]
    }
   ],
   "source": [
    "d_test=pd.read_csv(data_test, sep=' ')\n",
    "d_test['is_trade']=0\n",
    "print d_test.head()"
   ]
  },
  {
   "cell_type": "code",
   "execution_count": 4,
   "metadata": {},
   "outputs": [
    {
     "name": "stdout",
     "output_type": "stream",
     "text": [
      "(18371, 27)\n"
     ]
    }
   ],
   "source": [
    "print d_test.values.shape"
   ]
  },
  {
   "cell_type": "code",
   "execution_count": 5,
   "metadata": {},
   "outputs": [
    {
     "name": "stdout",
     "output_type": "stream",
     "text": [
      "(478138, 27)\n"
     ]
    }
   ],
   "source": [
    "d=pd.read_csv(data_train, sep=' ')\n",
    "print d.values.shape"
   ]
  },
  {
   "cell_type": "code",
   "execution_count": 6,
   "metadata": {},
   "outputs": [],
   "source": [
    "d=d.append(d_test)"
   ]
  },
  {
   "cell_type": "code",
   "execution_count": 7,
   "metadata": {},
   "outputs": [
    {
     "name": "stdout",
     "output_type": "stream",
     "text": [
      "(496509, 27)\n",
      "           instance_id              item_id  \\\n",
      "0   108641074714126964  3412720377098676069   \n",
      "1  5754713551599725161  3412720377098676069   \n",
      "2   842679481291040981  3412720377098676069   \n",
      "3   937088850059189027  3412720377098676069   \n",
      "4  7975697065017708072  3412720377098676069   \n",
      "\n",
      "                        item_category_list  \\\n",
      "0  7908382889764677758;5799347067982556520   \n",
      "1  7908382889764677758;5799347067982556520   \n",
      "2  7908382889764677758;5799347067982556520   \n",
      "3  7908382889764677758;5799347067982556520   \n",
      "4  7908382889764677758;5799347067982556520   \n",
      "\n",
      "                                  item_property_list        item_brand_id  \\\n",
      "0  2072967855524022579;5131280576272319091;263639...  1975590437749032870   \n",
      "1  2072967855524022579;5131280576272319091;263639...  1975590437749032870   \n",
      "2  2072967855524022579;5131280576272319091;263639...  1975590437749032870   \n",
      "3  2072967855524022579;5131280576272319091;263639...  1975590437749032870   \n",
      "4  2072967855524022579;5131280576272319091;263639...  1975590437749032870   \n",
      "\n",
      "          item_city_id  item_price_level  item_sales_level  \\\n",
      "0  3948283326616421003                 3                 3   \n",
      "1  3948283326616421003                 3                 3   \n",
      "2  3948283326616421003                 3                 3   \n",
      "3  3948283326616421003                 3                 3   \n",
      "4  3948283326616421003                 3                 3   \n",
      "\n",
      "   item_collected_level  item_pv_level    ...     context_page_id  \\\n",
      "0                     4             14    ...                4006   \n",
      "1                     4             14    ...                4001   \n",
      "2                     4             14    ...                4001   \n",
      "3                     4             14    ...                4016   \n",
      "4                     4             14    ...                4001   \n",
      "\n",
      "                           predict_category_property              shop_id  \\\n",
      "0  5799347067982556520:-1;509660095530134768:-1;5...  6765930309048922341   \n",
      "1  5799347067982556520:9172976955054793469;790838...  6765930309048922341   \n",
      "2  5799347067982556520:5131280576272319091;725801...  6765930309048922341   \n",
      "3  509660095530134768:-1;5799347067982556520:-1;7...  6765930309048922341   \n",
      "4  5799347067982556520:9172976955054793469;790838...  6765930309048922341   \n",
      "\n",
      "   shop_review_num_level  shop_review_positive_rate  shop_star_level  \\\n",
      "0                      4                        1.0             5002   \n",
      "1                      4                        1.0             5002   \n",
      "2                      4                        1.0             5002   \n",
      "3                      4                        1.0             5002   \n",
      "4                      4                        1.0             5002   \n",
      "\n",
      "   shop_score_service  shop_score_delivery shop_score_description  is_trade  \n",
      "0                 1.0                  1.0                    1.0         0  \n",
      "1                 1.0                  1.0                    1.0         0  \n",
      "2                 1.0                  1.0                    1.0         0  \n",
      "3                 1.0                  1.0                    1.0         0  \n",
      "4                 1.0                  1.0                    1.0         0  \n",
      "\n",
      "[5 rows x 27 columns]\n"
     ]
    }
   ],
   "source": [
    "print d.values.shape\n",
    "# 基本格式\n",
    "print d.head()"
   ]
  },
  {
   "cell_type": "code",
   "execution_count": 8,
   "metadata": {},
   "outputs": [
    {
     "name": "stdout",
     "output_type": "stream",
     "text": [
      "10236\n"
     ]
    }
   ],
   "source": [
    "item_id=d['item_id']\n",
    "print item_id.nunique()"
   ]
  },
  {
   "cell_type": "code",
   "execution_count": 9,
   "metadata": {},
   "outputs": [
    {
     "data": {
      "image/png": "[encoded data removed]",
      "text/plain": [
       "<matplotlib.figure.Figure at 0x7f7c9669ae90>"
      ]
     },
     "metadata": {},
     "output_type": "display_data"
    },
    {
     "name": "stdout",
     "output_type": "stream",
     "text": [
      "3\n",
      "2    494401\n",
      "3      2108\n",
      "Name: item_category_list, dtype: int64\n",
      "16\n",
      "[[15 16  0]\n",
      " [15 16  0]\n",
      " [15 16  0]\n",
      " ..., \n",
      " [15 14  0]\n",
      " [15 14  0]\n",
      " [15 14  0]]\n",
      "(496509, 3)\n"
     ]
    }
   ],
   "source": [
    "item_category_list=d['item_category_list'].apply(lambda x:len(x.split(';')))\n",
    "item_category_list.hist()\n",
    "plt.show()\n",
    "print item_category_list.max()\n",
    "print item_category_list.value_counts()\n",
    "item_category_list=d['item_category_list'].str.split(';').tolist()\n",
    "\n",
    "item_category_list_total=[b for a in item_category_list for b in a]\n",
    "item_category_list_total=np.array(item_category_list_total)\n",
    "item_category_list_total=list(set(item_category_list_total))\n",
    "print len(item_category_list_total)\n",
    "item_category_list_total=np.array(item_category_list_total)\n",
    "tokenizer=Tokenizer(num_words=2000, split=';', filters='')\n",
    "tokenizer.fit_on_texts(item_category_list_total)\n",
    "\n",
    "item_category_list=d['item_category_list'].as_matrix()\n",
    "item_category_list=tokenizer.texts_to_sequences(item_category_list)\n",
    "item_category_list=pad_sequences(item_category_list, maxlen=3, padding='post')\n",
    "print item_category_list\n",
    "print item_category_list.shape\n",
    "np.save('./data/item_category_list', item_category_list)"
   ]
  },
  {
   "cell_type": "code",
   "execution_count": 10,
   "metadata": {},
   "outputs": [
    {
     "name": "stdout",
     "output_type": "stream",
     "text": [
      "100\n"
     ]
    },
    {
     "data": {
      "image/png": "[encoded data removed]",
      "text/plain": [
       "<matplotlib.figure.Figure at 0x7f7c96cb7a50>"
      ]
     },
     "metadata": {},
     "output_type": "display_data"
    },
    {
     "name": "stdout",
     "output_type": "stream",
     "text": [
      "62368\n",
      "[[32253 33043 28597 ...,     0     0     0]\n",
      " [32253 33043 28597 ...,     0     0     0]\n",
      " [32253 33043 28597 ...,     0     0     0]\n",
      " ..., \n",
      " [28597 43324 40982 ...,     0     0     0]\n",
      " [28597 43324 40982 ...,     0     0     0]\n",
      " [28597 43324 40982 ...,     0     0     0]]\n",
      "(496509, 100)\n"
     ]
    }
   ],
   "source": [
    "item_property_list=d['item_property_list'].apply(lambda x:len(x.split(';')))\n",
    "print item_property_list.max()\n",
    "item_property_list.hist()\n",
    "plt.show()\n",
    "item_property_list=d['item_property_list'].str.split(';').tolist()\n",
    "\n",
    "item_property_list_total=[b for a in item_property_list for b in a]\n",
    "item_property_list_total=np.array(item_property_list_total)\n",
    "item_property_list_total=list(set(item_property_list_total))\n",
    "print len(item_property_list_total)\n",
    "\n",
    "tokenizer=Tokenizer(num_words=62000, split=';', filters='')\n",
    "tokenizer.fit_on_texts(item_property_list_total)\n",
    "\n",
    "item_property_list=d['item_property_list'].as_matrix()\n",
    "item_property_list=tokenizer.texts_to_sequences(item_property_list)\n",
    "item_property_list=pad_sequences(item_property_list, maxlen=100, padding='post')\n",
    "print item_property_list\n",
    "print item_property_list.shape\n",
    "np.save('./data/item_property_list', item_property_list)"
   ]
  },
  {
   "cell_type": "code",
   "execution_count": 11,
   "metadata": {},
   "outputs": [
    {
     "name": "stdout",
     "output_type": "stream",
     "text": [
      "2075\n",
      "(496509, 1)\n"
     ]
    }
   ],
   "source": [
    "item_brand_id=d['item_brand_id']\n",
    "print item_brand_id.nunique()\n",
    "item_brand_id=np.expand_dims(item_brand_id, axis=1)\n",
    "print item_brand_id.shape\n",
    "np.save('./data/item_brand_id', item_brand_id)"
   ]
  },
  {
   "cell_type": "code",
   "execution_count": 12,
   "metadata": {},
   "outputs": [
    {
     "name": "stdout",
     "output_type": "stream",
     "text": [
      "4003\n",
      "(496509, 1)\n"
     ]
    }
   ],
   "source": [
    "shop_id=d['shop_id']\n",
    "print shop_id.nunique()\n",
    "shop_id=np.expand_dims(shop_id, axis=1)\n",
    "print shop_id.shape\n",
    "np.save('./data/shop_id', shop_id)"
   ]
  },
  {
   "cell_type": "code",
   "execution_count": 139,
   "metadata": {},
   "outputs": [
    {
     "data": {
      "image/png": "[encoded data removed]",
      "text/plain": [
       "<matplotlib.figure.Figure at 0x7f79acfe69d0>"
      ]
     },
     "metadata": {},
     "output_type": "display_data"
    },
    {
     "name": "stdout",
     "output_type": "stream",
     "text": [
      "25\n",
      "[[ 4]\n",
      " [ 4]\n",
      " [ 4]\n",
      " ..., \n",
      " [14]\n",
      " [14]\n",
      " [14]]\n",
      "(496509, 1)\n"
     ]
    }
   ],
   "source": [
    "shop_review_num_level=d['shop_review_num_level']\n",
    "shop_review_num_level.hist()\n",
    "plt.show()\n",
    "print shop_review_num_level.max()\n",
    "\n",
    "shop_review_num_level=shop_review_num_level.as_matrix()\n",
    "shop_review_num_level=np.expand_dims(shop_review_num_level, axis=1)\n",
    "print shop_review_num_level\n",
    "print shop_review_num_level.shape\n",
    "np.save('./data/shop_review_num_level', shop_review_num_level)"
   ]
  },
  {
   "cell_type": "code",
   "execution_count": 142,
   "metadata": {},
   "outputs": [
    {
     "data": {
      "image/png": "[encoded data removed]",
      "text/plain": [
       "<matplotlib.figure.Figure at 0x7f7926f073d0>"
      ]
     },
     "metadata": {},
     "output_type": "display_data"
    },
    {
     "name": "stdout",
     "output_type": "stream",
     "text": [
      "(496509, 1)\n"
     ]
    }
   ],
   "source": [
    "shop_review_positive_rate=d['shop_review_positive_rate']\n",
    "shop_review_positive_rate.hist()\n",
    "plt.show()\n",
    "shop_review_positive_rate=np.expand_dims(shop_review_positive_rate, axis=1)\n",
    "print shop_review_positive_rate.shape\n",
    "np.save('./data/shop_review_positive_rate', shop_review_positive_rate)"
   ]
  },
  {
   "cell_type": "code",
   "execution_count": 144,
   "metadata": {},
   "outputs": [
    {
     "data": {
      "image/png": "[encoded data removed]",
      "text/plain": [
       "<matplotlib.figure.Figure at 0x7f79bc033e50>"
      ]
     },
     "metadata": {},
     "output_type": "display_data"
    },
    {
     "name": "stdout",
     "output_type": "stream",
     "text": [
      "(496509, 1)\n"
     ]
    }
   ],
   "source": [
    "shop_star_level=d['shop_star_level']\n",
    "shop_star_level.hist()\n",
    "plt.show()\n",
    "shop_star_level=np.expand_dims(shop_star_level, axis=1)\n",
    "print shop_star_level.shape\n",
    "np.save('./data/shop_star_level', shop_star_level)"
   ]
  },
  {
   "cell_type": "code",
   "execution_count": 146,
   "metadata": {},
   "outputs": [
    {
     "data": {
      "image/png": "[encoded data removed]",
      "text/plain": [
       "<matplotlib.figure.Figure at 0x7f79ad03de90>"
      ]
     },
     "metadata": {},
     "output_type": "display_data"
    },
    {
     "name": "stdout",
     "output_type": "stream",
     "text": [
      "(496509, 1)\n"
     ]
    }
   ],
   "source": [
    "shop_score_service=d['shop_score_service']\n",
    "shop_score_service.hist()\n",
    "plt.show()\n",
    "shop_score_service=np.expand_dims(shop_score_service, axis=1)\n",
    "print shop_score_service.shape\n",
    "np.save('./data/shop_score_service', shop_score_service)"
   ]
  },
  {
   "cell_type": "code",
   "execution_count": 147,
   "metadata": {},
   "outputs": [
    {
     "data": {
      "image/png": "[encoded data removed]",
      "text/plain": [
       "<matplotlib.figure.Figure at 0x7f795138bdd0>"
      ]
     },
     "metadata": {},
     "output_type": "display_data"
    },
    {
     "name": "stdout",
     "output_type": "stream",
     "text": [
      "(496509, 1)\n"
     ]
    }
   ],
   "source": [
    "shop_score_delivery=d['shop_score_delivery']\n",
    "shop_score_delivery.hist()\n",
    "plt.show()\n",
    "shop_score_delivery=np.expand_dims(shop_score_delivery, axis=1)\n",
    "print shop_score_delivery.shape\n",
    "np.save('./data/shop_score_delivery', shop_score_delivery)"
   ]
  },
  {
   "cell_type": "code",
   "execution_count": 148,
   "metadata": {},
   "outputs": [
    {
     "data": {
      "image/png": "[encoded data removed]",
      "text/plain": [
       "<matplotlib.figure.Figure at 0x7f7951516a50>"
      ]
     },
     "metadata": {},
     "output_type": "display_data"
    },
    {
     "name": "stdout",
     "output_type": "stream",
     "text": [
      "(496509, 1)\n"
     ]
    }
   ],
   "source": [
    "shop_score_description=d['shop_score_description']\n",
    "shop_score_description.hist()\n",
    "plt.show()\n",
    "shop_score_description=np.expand_dims(shop_score_description, axis=1)\n",
    "print shop_score_description.shape\n",
    "np.save('./data/shop_score_description', shop_score_description)"
   ]
  },
  {
   "cell_type": "code",
   "execution_count": 149,
   "metadata": {},
   "outputs": [
    {
     "data": {
      "image/png": "[encoded data removed]",
      "text/plain": [
       "<matplotlib.figure.Figure at 0x7f79484939d0>"
      ]
     },
     "metadata": {},
     "output_type": "display_data"
    },
    {
     "name": "stdout",
     "output_type": "stream",
     "text": [
      "(496509, 1)\n"
     ]
    }
   ],
   "source": [
    "is_trade=d['is_trade']\n",
    "is_trade.hist()\n",
    "plt.show()\n",
    "is_trade=is_trade.as_matrix()\n",
    "is_trade=np.expand_dims(is_trade, axis=1)\n",
    "print is_trade.shape\n",
    "np.save('./data/is_trade', is_trade)"
   ]
  }
 ],
 "metadata": {
  "kernelspec": {
   "display_name": "Python 2",
   "language": "python",
   "name": "python2"
  },
  "language_info": {
   "codemirror_mode": {
    "name": "ipython",
    "version": 2
   },
   "file_extension": ".py",
   "mimetype": "text/x-python",
   "name": "python",
   "nbconvert_exporter": "python",
   "pygments_lexer": "ipython2",
   "version": "2.7.12"
  }
 },
 "nbformat": 4,
 "nbformat_minor": 2
}
