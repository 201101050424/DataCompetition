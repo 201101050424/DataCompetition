{
 "cells": [
  {
   "cell_type": "code",
   "execution_count": 16,
   "metadata": {},
   "outputs": [],
   "source": [
    "import pandas as pd\n",
    "import numpy as np\n",
    "import matplotlib.pyplot as plt\n",
    "from conf import *"
   ]
  },
  {
   "cell_type": "code",
   "execution_count": 9,
   "metadata": {},
   "outputs": [
    {
     "name": "stdout",
     "output_type": "stream",
     "text": [
      "           instance_id              item_id  \\\n",
      "0   108641074714126964  3412720377098676069   \n",
      "1  5754713551599725161  3412720377098676069   \n",
      "2   842679481291040981  3412720377098676069   \n",
      "3   937088850059189027  3412720377098676069   \n",
      "4  7975697065017708072  3412720377098676069   \n",
      "\n",
      "                        item_category_list  \\\n",
      "0  7908382889764677758;5799347067982556520   \n",
      "1  7908382889764677758;5799347067982556520   \n",
      "2  7908382889764677758;5799347067982556520   \n",
      "3  7908382889764677758;5799347067982556520   \n",
      "4  7908382889764677758;5799347067982556520   \n",
      "\n",
      "                                  item_property_list        item_brand_id  \\\n",
      "0  2072967855524022579;5131280576272319091;263639...  1975590437749032870   \n",
      "1  2072967855524022579;5131280576272319091;263639...  1975590437749032870   \n",
      "2  2072967855524022579;5131280576272319091;263639...  1975590437749032870   \n",
      "3  2072967855524022579;5131280576272319091;263639...  1975590437749032870   \n",
      "4  2072967855524022579;5131280576272319091;263639...  1975590437749032870   \n",
      "\n",
      "          item_city_id  item_price_level  item_sales_level  \\\n",
      "0  3948283326616421003                 3                 3   \n",
      "1  3948283326616421003                 3                 3   \n",
      "2  3948283326616421003                 3                 3   \n",
      "3  3948283326616421003                 3                 3   \n",
      "4  3948283326616421003                 3                 3   \n",
      "\n",
      "   item_collected_level  item_pv_level    ...     context_page_id  \\\n",
      "0                     4             14    ...                4006   \n",
      "1                     4             14    ...                4001   \n",
      "2                     4             14    ...                4001   \n",
      "3                     4             14    ...                4016   \n",
      "4                     4             14    ...                4001   \n",
      "\n",
      "                           predict_category_property              shop_id  \\\n",
      "0  5799347067982556520:-1;509660095530134768:-1;5...  6765930309048922341   \n",
      "1  5799347067982556520:9172976955054793469;790838...  6765930309048922341   \n",
      "2  5799347067982556520:5131280576272319091;725801...  6765930309048922341   \n",
      "3  509660095530134768:-1;5799347067982556520:-1;7...  6765930309048922341   \n",
      "4  5799347067982556520:9172976955054793469;790838...  6765930309048922341   \n",
      "\n",
      "   shop_review_num_level  shop_review_positive_rate  shop_star_level  \\\n",
      "0                      4                        1.0             5002   \n",
      "1                      4                        1.0             5002   \n",
      "2                      4                        1.0             5002   \n",
      "3                      4                        1.0             5002   \n",
      "4                      4                        1.0             5002   \n",
      "\n",
      "   shop_score_service  shop_score_delivery shop_score_description  is_trade  \n",
      "0                 1.0                  1.0                    1.0         0  \n",
      "1                 1.0                  1.0                    1.0         0  \n",
      "2                 1.0                  1.0                    1.0         0  \n",
      "3                 1.0                  1.0                    1.0         0  \n",
      "4                 1.0                  1.0                    1.0         0  \n",
      "\n",
      "[5 rows x 27 columns]\n"
     ]
    }
   ],
   "source": [
    "d=pd.read_csv(data_train, sep=' ')\n",
    "# 基本格式\n",
    "print d.head()"
   ]
  },
  {
   "cell_type": "code",
   "execution_count": 17,
   "metadata": {},
   "outputs": [
    {
     "data": {
      "image/png": "[encoded data removed]",
      "text/plain": [
       "<matplotlib.figure.Figure at 0x7fac7f420b50>"
      ]
     },
     "metadata": {},
     "output_type": "display_data"
    }
   ],
   "source": [
    "item_property_list=d['item_property_list'].apply(lambda x:len(x.split(';')))\n",
    "item_property_list.hist()\n",
    "plt.show()"
   ]
  },
  {
   "cell_type": "code",
   "execution_count": null,
   "metadata": {},
   "outputs": [],
   "source": []
  },
  {
   "cell_type": "code",
   "execution_count": null,
   "metadata": {},
   "outputs": [],
   "source": []
  },
  {
   "cell_type": "code",
   "execution_count": null,
   "metadata": {},
   "outputs": [],
   "source": []
  },
  {
   "cell_type": "code",
   "execution_count": null,
   "metadata": {},
   "outputs": [],
   "source": []
  },
  {
   "cell_type": "code",
   "execution_count": null,
   "metadata": {},
   "outputs": [],
   "source": []
  },
  {
   "cell_type": "code",
   "execution_count": null,
   "metadata": {},
   "outputs": [],
   "source": []
  },
  {
   "cell_type": "code",
   "execution_count": null,
   "metadata": {},
   "outputs": [],
   "source": []
  }
 ],
 "metadata": {
  "kernelspec": {
   "display_name": "Python 2",
   "language": "python",
   "name": "python2"
  },
  "language_info": {
   "codemirror_mode": {
    "name": "ipython",
    "version": 2
   },
   "file_extension": ".py",
   "mimetype": "text/x-python",
   "name": "python",
   "nbconvert_exporter": "python",
   "pygments_lexer": "ipython2",
   "version": "2.7.12"
  }
 },
 "nbformat": 4,
 "nbformat_minor": 2
}
